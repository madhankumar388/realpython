{
 "cells": [
  {
   "cell_type": "markdown",
   "id": "seasonal-future",
   "metadata": {},
   "source": [
    "<h2>Section 1: Immutable Data Structures<h2>"
   ]
  },
  {
   "cell_type": "code",
   "execution_count": null,
   "id": "distinguished-nirvana",
   "metadata": {},
   "outputs": [],
   "source": [
    "scientists1 = [\n",
    "{'name': 'Ada Lovelace', 'field' : 'math', 'born': 1815, 'nobel': False},\n",
    "{'name': 'Emmy Noether', 'field' : 'math', 'born': 1882, 'nobel': False},\n",
    "{'name': 'Marie Curie', 'field' : 'physics', 'born': 1867, 'nobel': True},\n",
    "{'name': 'Tu Youyou', 'field' : 'chemistry', 'born': 1930, 'nobel': True},\n",
    "{'name': 'Ada Yonath', 'field' : 'chemistry', 'born': 1939, 'nobel': True},\n",
    "{'name': 'Vera Rubin', 'field' : 'astronomy', 'born': 1928, 'nobel': False},\n",
    "{'name': 'Sally Ride', 'field' : 'physics', 'born': 1951, 'nobel': False},\n",
    "]"
   ]
  },
  {
   "cell_type": "code",
   "execution_count": 24,
   "id": "metallic-sustainability",
   "metadata": {},
   "outputs": [
    {
     "data": {
      "text/plain": [
       "[{'name': 'Ed Lovelace', 'field': 'math', 'born': 1815, 'nobel': False},\n",
       " {'name': 'Emmy Noether', 'field': 'math', 'born': 1882, 'nobel': False},\n",
       " {'name': 'Marie Curie', 'field': 'physics', 'born': 1867, 'nobel': True},\n",
       " {'name': 'Tu Youyou', 'field': 'chemistry', 'born': 1930, 'nobel': True},\n",
       " {'name': 'Ada Yonath', 'field': 'chemistry', 'born': 1939, 'nobel': True},\n",
       " {'name': 'Vera Rubin', 'field': 'astronomy', 'born': 1928, 'nobel': False},\n",
       " {'name': 'Sally Ride', 'field': 'physics', 'born': 1951, 'nobel': False}]"
      ]
     },
     "execution_count": 24,
     "metadata": {},
     "output_type": "execute_result"
    }
   ],
   "source": [
    "scientists1"
   ]
  },
  {
   "cell_type": "code",
   "execution_count": 20,
   "id": "recent-pastor",
   "metadata": {},
   "outputs": [],
   "source": [
    "scientists1[0]['name'] = 'Ed Lovelace' # Mutable"
   ]
  },
  {
   "cell_type": "code",
   "execution_count": 1,
   "id": "arbitrary-landscape",
   "metadata": {},
   "outputs": [],
   "source": [
    "# creates class of type Scientist with the given attributes\n",
    "import collections\n",
    "Scientist = collections.namedtuple('Scientist', [\n",
    "    'name',\n",
    "    'field',\n",
    "    'born',\n",
    "    'nobel'\n",
    "])"
   ]
  },
  {
   "cell_type": "code",
   "execution_count": 48,
   "id": "threatened-giving",
   "metadata": {},
   "outputs": [
    {
     "data": {
      "text/plain": [
       "'Ada Lovelace'"
      ]
     },
     "execution_count": 48,
     "metadata": {},
     "output_type": "execute_result"
    }
   ],
   "source": [
    "# Example - create ada object of type Scientist\n",
    "ada = Scientist (name='Ada Lovelace', field='math', born=1815, nobel=False)\n",
    "#Printing its attribute which are not mutable\n",
    "ada.name"
   ]
  },
  {
   "cell_type": "code",
   "execution_count": 60,
   "id": "honest-texas",
   "metadata": {},
   "outputs": [],
   "source": [
    "scientists_list = [\n",
    "    Scientist (name='Ada Lovelace', field='math', born=1815, nobel=False),\n",
    "    Scientist (name='Emmy Noether', field='math', born=1882, nobel=False),\n",
    "    Scientist (name='Marie Curie', field='physics', born=1867, nobel=True)\n",
    "]"
   ]
  },
  {
   "cell_type": "code",
   "execution_count": 61,
   "id": "indian-leeds",
   "metadata": {},
   "outputs": [
    {
     "ename": "TypeError",
     "evalue": "'Scientist' object does not support item assignment",
     "output_type": "error",
     "traceback": [
      "\u001b[0;31m---------------------------------------------------------------------------\u001b[0m",
      "\u001b[0;31mTypeError\u001b[0m                                 Traceback (most recent call last)",
      "\u001b[0;32m<ipython-input-61-788389095bf5>\u001b[0m in \u001b[0;36m<module>\u001b[0;34m\u001b[0m\n\u001b[0;32m----> 1\u001b[0;31m \u001b[0mscientists_list\u001b[0m\u001b[0;34m[\u001b[0m\u001b[0;36m0\u001b[0m\u001b[0;34m]\u001b[0m\u001b[0;34m[\u001b[0m\u001b[0;34m'name'\u001b[0m\u001b[0;34m]\u001b[0m \u001b[0;34m=\u001b[0m \u001b[0;34m\"Doggy\"\u001b[0m\u001b[0;34m\u001b[0m\u001b[0;34m\u001b[0m\u001b[0m\n\u001b[0m",
      "\u001b[0;31mTypeError\u001b[0m: 'Scientist' object does not support item assignment"
     ]
    }
   ],
   "source": [
    "scientists_list[0]['name'] = \"Doggy\" # immutable"
   ]
  },
  {
   "cell_type": "code",
   "execution_count": 62,
   "id": "assigned-supplier",
   "metadata": {},
   "outputs": [
    {
     "data": {
      "text/plain": [
       "[Scientist(name='Emmy Noether', field='math', born=1882, nobel=False),\n",
       " Scientist(name='Marie Curie', field='physics', born=1867, nobel=True)]"
      ]
     },
     "execution_count": 62,
     "metadata": {},
     "output_type": "execute_result"
    }
   ],
   "source": [
    "del scientists_list[0] # can still delete the element in the list of scientists.\n",
    "scientists_list"
   ]
  },
  {
   "cell_type": "code",
   "execution_count": 2,
   "id": "biblical-check",
   "metadata": {},
   "outputs": [],
   "source": [
    "# create a tuple of Scientists to make it completley immutable\n",
    "scientists_tuple = (\n",
    "    Scientist (name='Ada Lovelace', field='math', born=1815, nobel=False),\n",
    "    Scientist (name='Emmy Noether', field='math', born=1882, nobel=False),\n",
    "    Scientist (name='Marie Curie', field='physics', born=1867, nobel=True),\n",
    "    Scientist (name='Sally Ride', field='physics', born=1899, nobel=True)\n",
    ")"
   ]
  },
  {
   "cell_type": "code",
   "execution_count": 89,
   "id": "dressed-academy",
   "metadata": {},
   "outputs": [
    {
     "ename": "TypeError",
     "evalue": "'tuple' object doesn't support item deletion",
     "output_type": "error",
     "traceback": [
      "\u001b[0;31m---------------------------------------------------------------------------\u001b[0m",
      "\u001b[0;31mTypeError\u001b[0m                                 Traceback (most recent call last)",
      "\u001b[0;32m<ipython-input-89-1173533b6127>\u001b[0m in \u001b[0;36m<module>\u001b[0;34m\u001b[0m\n\u001b[0;32m----> 1\u001b[0;31m \u001b[0;32mdel\u001b[0m \u001b[0mscientists_tuple\u001b[0m\u001b[0;34m[\u001b[0m\u001b[0;36m0\u001b[0m\u001b[0;34m]\u001b[0m \u001b[0;31m# Immutable\u001b[0m\u001b[0;34m\u001b[0m\u001b[0;34m\u001b[0m\u001b[0m\n\u001b[0m\u001b[1;32m      2\u001b[0m \u001b[0mscientists_tuple\u001b[0m\u001b[0;34m[\u001b[0m\u001b[0;36m0\u001b[0m\u001b[0;34m]\u001b[0m\u001b[0;34m[\u001b[0m\u001b[0;34m'name'\u001b[0m\u001b[0;34m]\u001b[0m \u001b[0;34m=\u001b[0m \u001b[0;34m\"Doggy\"\u001b[0m \u001b[0;31m# immutable\u001b[0m\u001b[0;34m\u001b[0m\u001b[0;34m\u001b[0m\u001b[0m\n",
      "\u001b[0;31mTypeError\u001b[0m: 'tuple' object doesn't support item deletion"
     ]
    }
   ],
   "source": [
    "del scientists_tuple[0] # Immutable \n",
    "scientists_tuple[0]['name'] = \"Doggy\" # immutable"
   ]
  },
  {
   "cell_type": "markdown",
   "id": "regulated-speed",
   "metadata": {},
   "source": [
    "<h2>Section 2: The filter() Function<h2>"
   ]
  },
  {
   "cell_type": "code",
   "execution_count": 66,
   "id": "inside-listing",
   "metadata": {},
   "outputs": [
    {
     "data": {
      "text/plain": [
       "<filter at 0x7f2456a0aa30>"
      ]
     },
     "execution_count": 66,
     "metadata": {},
     "output_type": "execute_result"
    }
   ],
   "source": [
    "fs = filter( lambda x: x.nobel is True, scientists_tuple ) # returns an iterable object\n",
    "fs # prints the iterable object"
   ]
  },
  {
   "cell_type": "code",
   "execution_count": 68,
   "id": "continental-funds",
   "metadata": {},
   "outputs": [
    {
     "data": {
      "text/plain": [
       "Scientist(name='Marie Curie', field='physics', born=1867, nobel=True)"
      ]
     },
     "execution_count": 68,
     "metadata": {},
     "output_type": "execute_result"
    }
   ],
   "source": [
    "next(fs) # iterate through the next element in the object."
   ]
  },
  {
   "cell_type": "code",
   "execution_count": 77,
   "id": "reliable-demographic",
   "metadata": {},
   "outputs": [
    {
     "data": {
      "text/plain": [
       "(Scientist(name='Marie Curie', field='physics', born=1867, nobel=True),)"
      ]
     },
     "execution_count": 77,
     "metadata": {},
     "output_type": "execute_result"
    }
   ],
   "source": [
    "tuple(filter( lambda x: x.nobel is True, scientists_tuple )) \n",
    "# convert filters iterable to a tuple and return it"
   ]
  },
  {
   "cell_type": "code",
   "execution_count": 78,
   "id": "following-vacuum",
   "metadata": {},
   "outputs": [
    {
     "data": {
      "text/plain": [
       "(Scientist(name='Ada Lovelace', field='math', born=1815, nobel=False),\n",
       " Scientist(name='Emmy Noether', field='math', born=1882, nobel=False),\n",
       " Scientist(name='Marie Curie', field='physics', born=1867, nobel=True))"
      ]
     },
     "execution_count": 78,
     "metadata": {},
     "output_type": "execute_result"
    }
   ],
   "source": [
    "tuple(filter( lambda x: True, scientists_tuple )) \n",
    "# Filter and return all elements "
   ]
  },
  {
   "cell_type": "code",
   "execution_count": 83,
   "id": "political-mixer",
   "metadata": {},
   "outputs": [
    {
     "data": {
      "text/plain": [
       "(Scientist(name='Marie Curie', field='physics', born=1867, nobel=True),)"
      ]
     },
     "execution_count": 83,
     "metadata": {},
     "output_type": "execute_result"
    }
   ],
   "source": [
    "tuple(filter( lambda x: x.field == 'physics' and x.nobel , scientists_tuple )) "
   ]
  },
  {
   "cell_type": "code",
   "execution_count": 84,
   "id": "supported-acceptance",
   "metadata": {},
   "outputs": [
    {
     "name": "stdout",
     "output_type": "stream",
     "text": [
      "Scientist(name='Marie Curie', field='physics', born=1867, nobel=True)\n"
     ]
    }
   ],
   "source": [
    "# do it another way1 - more clutter not much reusable\n",
    "for x in scientists_tuple:\n",
    "    if x.nobel is True:\n",
    "        print(x)"
   ]
  },
  {
   "cell_type": "code",
   "execution_count": 85,
   "id": "cutting-example",
   "metadata": {},
   "outputs": [
    {
     "data": {
      "text/plain": [
       "(Scientist(name='Marie Curie', field='physics', born=1867, nobel=True),)"
      ]
     },
     "execution_count": 85,
     "metadata": {},
     "output_type": "execute_result"
    }
   ],
   "source": [
    "# do it another way2 -  much cleaner\n",
    "def nobel_filter(x):\n",
    "    return x.nobel is True\n",
    "\n",
    "tuple(filter( nobel_filter , scientists_tuple )) "
   ]
  },
  {
   "cell_type": "code",
   "execution_count": 86,
   "id": "imperial-inside",
   "metadata": {},
   "outputs": [
    {
     "data": {
      "text/plain": [
       "(Scientist(name='Marie Curie', field='physics', born=1867, nobel=True),)"
      ]
     },
     "execution_count": 86,
     "metadata": {},
     "output_type": "execute_result"
    }
   ],
   "source": [
    "# List comprehension , more pythonic way . but creates a list intermediate object and \n",
    "# discards it after converting it into a tuple.\n",
    "tuple([x for x in scientists_tuple if x.nobel is True])"
   ]
  },
  {
   "cell_type": "code",
   "execution_count": 88,
   "id": "preliminary-oxide",
   "metadata": {},
   "outputs": [
    {
     "data": {
      "text/plain": [
       "(Scientist(name='Marie Curie', field='physics', born=1867, nobel=True),)"
      ]
     },
     "execution_count": 88,
     "metadata": {},
     "output_type": "execute_result"
    }
   ],
   "source": [
    "#generator expression - does not create an intermediate list object\n",
    "tuple(x for x in scientists_tuple if x.nobel is True)"
   ]
  },
  {
   "cell_type": "markdown",
   "id": "developmental-roman",
   "metadata": {},
   "source": [
    "<h2>Section 3: The map() Function<h2>"
   ]
  },
  {
   "cell_type": "code",
   "execution_count": 94,
   "id": "cellular-irrigation",
   "metadata": {},
   "outputs": [
    {
     "data": {
      "text/plain": [
       "(Scientist(name='Ada Lovelace', field='math', born=1815, nobel=False),\n",
       " Scientist(name='Emmy Noether', field='math', born=1882, nobel=False),\n",
       " Scientist(name='Marie Curie', field='physics', born=1867, nobel=True))"
      ]
     },
     "execution_count": 94,
     "metadata": {},
     "output_type": "execute_result"
    }
   ],
   "source": [
    "scientists_tuple"
   ]
  },
  {
   "cell_type": "code",
   "execution_count": 98,
   "id": "liquid-saturday",
   "metadata": {},
   "outputs": [],
   "source": [
    "names_and_ages = tuple (map(\n",
    "    lambda x: {'name': x.name, 'age': 2020 - x.born }, scientists_tuple\n",
    "))"
   ]
  },
  {
   "cell_type": "code",
   "execution_count": 99,
   "id": "worth-accounting",
   "metadata": {},
   "outputs": [
    {
     "data": {
      "text/plain": [
       "({'name': 'Ada Lovelace', 'age': 205},\n",
       " {'name': 'Emmy Noether', 'age': 138},\n",
       " {'name': 'Marie Curie', 'age': 153})"
      ]
     },
     "execution_count": 99,
     "metadata": {},
     "output_type": "execute_result"
    }
   ],
   "source": [
    "names_and_ages"
   ]
  },
  {
   "cell_type": "code",
   "execution_count": 100,
   "id": "under-religious",
   "metadata": {},
   "outputs": [
    {
     "data": {
      "text/plain": [
       "[{'name': 'Ada Lovelace', 'age': 205},\n",
       " {'name': 'Emmy Noether', 'age': 138},\n",
       " {'name': 'Marie Curie', 'age': 153}]"
      ]
     },
     "execution_count": 100,
     "metadata": {},
     "output_type": "execute_result"
    }
   ],
   "source": [
    "# using lisst comprehension way\n",
    "[{'name': x.name, 'age': 2020 - x.born } for x in scientists_tuple]"
   ]
  },
  {
   "cell_type": "code",
   "execution_count": 109,
   "id": "higher-directive",
   "metadata": {},
   "outputs": [],
   "source": [
    "# using generator expression\n",
    "generator_object = ({'name': x.name.upper(), 'age': 2020 - x.born } for x in scientists_tuple)"
   ]
  },
  {
   "cell_type": "code",
   "execution_count": 110,
   "id": "other-record",
   "metadata": {},
   "outputs": [
    {
     "data": {
      "text/plain": [
       "({'name': 'ADA LOVELACE', 'age': 205},\n",
       " {'name': 'EMMY NOETHER', 'age': 138},\n",
       " {'name': 'MARIE CURIE', 'age': 153})"
      ]
     },
     "execution_count": 110,
     "metadata": {},
     "output_type": "execute_result"
    }
   ],
   "source": [
    "tuple(generator_object)"
   ]
  },
  {
   "cell_type": "markdown",
   "id": "political-fraud",
   "metadata": {},
   "source": [
    "<h2>Section 4: The reduce() Function<h2>"
   ]
  },
  {
   "cell_type": "code",
   "execution_count": 112,
   "id": "other-growth",
   "metadata": {},
   "outputs": [],
   "source": [
    "from functools import reduce"
   ]
  },
  {
   "cell_type": "code",
   "execution_count": 113,
   "id": "oriented-viking",
   "metadata": {},
   "outputs": [
    {
     "data": {
      "text/plain": [
       "(Scientist(name='Ada Lovelace', field='math', born=1815, nobel=False),\n",
       " Scientist(name='Emmy Noether', field='math', born=1882, nobel=False),\n",
       " Scientist(name='Marie Curie', field='physics', born=1867, nobel=True))"
      ]
     },
     "execution_count": 113,
     "metadata": {},
     "output_type": "execute_result"
    }
   ],
   "source": [
    "scientists_tuple"
   ]
  },
  {
   "cell_type": "code",
   "execution_count": 116,
   "id": "useful-printer",
   "metadata": {},
   "outputs": [],
   "source": [
    "total_age = reduce(\n",
    "    lambda totalage , element: totalage + element['age'], \n",
    "    names_and_ages, \n",
    "    0\n",
    ")"
   ]
  },
  {
   "cell_type": "code",
   "execution_count": 117,
   "id": "proper-living",
   "metadata": {},
   "outputs": [
    {
     "data": {
      "text/plain": [
       "496"
      ]
     },
     "execution_count": 117,
     "metadata": {},
     "output_type": "execute_result"
    }
   ],
   "source": [
    "total_age"
   ]
  },
  {
   "cell_type": "code",
   "execution_count": 118,
   "id": "military-military",
   "metadata": {},
   "outputs": [
    {
     "data": {
      "text/plain": [
       "496"
      ]
     },
     "execution_count": 118,
     "metadata": {},
     "output_type": "execute_result"
    }
   ],
   "source": [
    "# another way to doo reduce using for loops\n",
    "sum(x['age'] for x in names_and_ages)"
   ]
  },
  {
   "cell_type": "code",
   "execution_count": 134,
   "id": "numerical-carbon",
   "metadata": {},
   "outputs": [],
   "source": [
    "# using reducer functions\n",
    "def reducer(acc, item):\n",
    "    acc[item.field].append(item.name)\n",
    "    return acc"
   ]
  },
  {
   "cell_type": "code",
   "execution_count": 135,
   "id": "signal-genome",
   "metadata": {},
   "outputs": [],
   "source": [
    "scientists_by_field1 = reduce(\n",
    "    reducer,\n",
    "    scientists_tuple,\n",
    "    {'math': [], 'physics' : [], 'chemistry': [], 'astronomy': []}\n",
    ")"
   ]
  },
  {
   "cell_type": "code",
   "execution_count": 136,
   "id": "polyphonic-element",
   "metadata": {},
   "outputs": [
    {
     "data": {
      "text/plain": [
       "{'math': ['Ada Lovelace', 'Emmy Noether'],\n",
       " 'physics': ['Marie Curie', 'Sally Ride'],\n",
       " 'chemistry': [],\n",
       " 'astronomy': []}"
      ]
     },
     "execution_count": 136,
     "metadata": {},
     "output_type": "execute_result"
    }
   ],
   "source": [
    "scientists_by_field1"
   ]
  },
  {
   "cell_type": "code",
   "execution_count": 137,
   "id": "recognized-czech",
   "metadata": {},
   "outputs": [],
   "source": [
    "import collections"
   ]
  },
  {
   "cell_type": "code",
   "execution_count": 138,
   "id": "final-burden",
   "metadata": {},
   "outputs": [],
   "source": [
    "scientists_by_field2 = reduce(\n",
    "    reducer,\n",
    "    scientists_tuple,\n",
    "    collections.defaultdict(list) # automatically creates the key every time we try to access it . use this instead of manually defining accumulator every time.\n",
    ")"
   ]
  },
  {
   "cell_type": "code",
   "execution_count": 139,
   "id": "limited-reputation",
   "metadata": {},
   "outputs": [
    {
     "data": {
      "text/plain": [
       "defaultdict(list,\n",
       "            {'math': ['Ada Lovelace', 'Emmy Noether'],\n",
       "             'physics': ['Marie Curie', 'Sally Ride']})"
      ]
     },
     "execution_count": 139,
     "metadata": {},
     "output_type": "execute_result"
    }
   ],
   "source": [
    "scientists_by_field2"
   ]
  },
  {
   "cell_type": "code",
   "execution_count": 160,
   "id": "mathematical-deposit",
   "metadata": {},
   "outputs": [],
   "source": [
    "import itertools ##########Review Again #################"
   ]
  },
  {
   "cell_type": "code",
   "execution_count": 157,
   "id": "miniature-springer",
   "metadata": {},
   "outputs": [
    {
     "data": {
      "text/plain": [
       "<itertools.groupby at 0x7f245671c8b0>"
      ]
     },
     "execution_count": 157,
     "metadata": {},
     "output_type": "execute_result"
    }
   ],
   "source": [
    "itertools.groupby(scientists_tuple, lambda x: x.field) # returns an inerable oobject"
   ]
  },
  {
   "cell_type": "code",
   "execution_count": 161,
   "id": "thirty-intelligence",
   "metadata": {},
   "outputs": [],
   "source": [
    "scientists_by_field3 = {\n",
    "    item[0] : list(item[1])\n",
    "    for item in itertools.groupby(scientists_tuple, lambda x: x.field)\n",
    "}"
   ]
  },
  {
   "cell_type": "code",
   "execution_count": 162,
   "id": "three-frequency",
   "metadata": {},
   "outputs": [
    {
     "data": {
      "text/plain": [
       "{'math': [Scientist(name='Ada Lovelace', field='math', born=1815, nobel=False),\n",
       "  Scientist(name='Emmy Noether', field='math', born=1882, nobel=False)],\n",
       " 'physics': [Scientist(name='Marie Curie', field='physics', born=1867, nobel=True),\n",
       "  Scientist(name='Sally Ride', field='physics', born=1899, nobel=True)]}"
      ]
     },
     "execution_count": 162,
     "metadata": {},
     "output_type": "execute_result"
    }
   ],
   "source": [
    "scientists_by_field3"
   ]
  },
  {
   "cell_type": "markdown",
   "id": "compatible-report",
   "metadata": {},
   "source": [
    "<h2>Parallel Processing With multiprocessing: Overview<h2>"
   ]
  },
  {
   "cell_type": "code",
   "execution_count": 4,
   "id": "accredited-biology",
   "metadata": {},
   "outputs": [
    {
     "data": {
      "text/plain": [
       "(Scientist(name='Ada Lovelace', field='math', born=1815, nobel=False),\n",
       " Scientist(name='Emmy Noether', field='math', born=1882, nobel=False),\n",
       " Scientist(name='Marie Curie', field='physics', born=1867, nobel=True),\n",
       " Scientist(name='Sally Ride', field='physics', born=1899, nobel=True))"
      ]
     },
     "execution_count": 4,
     "metadata": {},
     "output_type": "execute_result"
    }
   ],
   "source": [
    "scientists_tuple"
   ]
  },
  {
   "cell_type": "code",
   "execution_count": 4,
   "id": "elder-admission",
   "metadata": {},
   "outputs": [],
   "source": [
    "import time\n",
    "import multiprocessing\n",
    "from pprint import pprint\n",
    "import os\n",
    "\n",
    "def transform(x):\n",
    "    print(f'Process {os.getpid()} started processing the record {x.name}\\n')\n",
    "    time.sleep(2)\n",
    "    result = {'name': x.name, 'age': 2020 - x.born}\n",
    "    print(f'Process {os.getpid()} completed Processing record {x.name}\\n')\n",
    "    return result"
   ]
  },
  {
   "cell_type": "code",
   "execution_count": 5,
   "id": "emerging-population",
   "metadata": {},
   "outputs": [
    {
     "name": "stdout",
     "output_type": "stream",
     "text": [
      "Process 4028 started processing the record Ada Lovelace\n",
      "\n",
      "Process 4028 completed Processing record Ada Lovelace\n",
      "\n",
      "Process 4028 started processing the record Emmy Noether\n",
      "\n",
      "Process 4028 completed Processing record Emmy Noether\n",
      "\n",
      "Process 4028 started processing the record Marie Curie\n",
      "\n",
      "Process 4028 completed Processing record Marie Curie\n",
      "\n",
      "Process 4028 started processing the record Sally Ride\n",
      "\n",
      "Process 4028 completed Processing record Sally Ride\n",
      "\n",
      "Time to complete: 8.01\n",
      "({'age': 205, 'name': 'Ada Lovelace'},\n",
      " {'age': 138, 'name': 'Emmy Noether'},\n",
      " {'age': 153, 'name': 'Marie Curie'},\n",
      " {'age': 121, 'name': 'Sally Ride'})\n"
     ]
    }
   ],
   "source": [
    "# Sequential processsing code\n",
    "start = time.time()\n",
    "result = tuple(map( transform, scientists_tuple )) \n",
    "end = time.time()\n",
    "\n",
    "\n",
    "print(f'Time to complete: {end-start:.2f}')\n",
    "pprint(result)"
   ]
  },
  {
   "cell_type": "code",
   "execution_count": 7,
   "id": "innocent-passenger",
   "metadata": {},
   "outputs": [
    {
     "name": "stdout",
     "output_type": "stream",
     "text": [
      "Process 3826 started processing the record Ada Lovelace\n",
      "Process 3827 started processing the record Emmy Noether\n",
      "Process 3829 started processing the record Sally Ride\n",
      "Process 3828 started processing the record Marie Curie\n",
      "\n",
      "\n",
      "\n",
      "\n",
      "Process 3827 completed Processing record Emmy Noether\n",
      "Process 3826 completed Processing record Ada Lovelace\n",
      "Process 3829 completed Processing record Sally Ride\n",
      "Process 3828 completed Processing record Marie Curie\n",
      "\n",
      "\n",
      "\n",
      "\n",
      "Time to complete: 2.08\n",
      "({'age': 205, 'name': 'Ada Lovelace'},\n",
      " {'age': 138, 'name': 'Emmy Noether'},\n",
      " {'age': 153, 'name': 'Marie Curie'},\n",
      " {'age': 121, 'name': 'Sally Ride'})\n"
     ]
    }
   ],
   "source": [
    "#Multiprocessing code\n",
    "start = time.time()\n",
    "\n",
    "pool = multiprocessing.Pool()\n",
    "pool.map(transform, scientists_tuple)\n",
    "\n",
    "end = time.time()\n",
    "\n",
    "\n",
    "print(f'Time to complete: {end-start:.2f}')\n",
    "pprint(result)"
   ]
  },
  {
   "cell_type": "code",
   "execution_count": 7,
   "id": "single-australia",
   "metadata": {},
   "outputs": [
    {
     "name": "stdout",
     "output_type": "stream",
     "text": [
      "Process 4078 started processing the record Emmy Noether\n",
      "Process 4079 started processing the record Marie Curie\n",
      "Process 4077 started processing the record Ada Lovelace\n",
      "Process 4080 started processing the record Sally Ride\n",
      "\n",
      "\n",
      "\n",
      "\n",
      "Process 4079 completed Processing record Marie Curie\n",
      "\n",
      "Process 4078 completed Processing record Emmy Noether\n",
      "Process 4080 completed Processing record Sally Ride\n",
      "Process 4077 completed Processing record Ada Lovelace\n",
      "\n",
      "\n",
      "Time to complete: 2.03\n",
      "({'age': 205, 'name': 'Ada Lovelace'},\n",
      " {'age': 138, 'name': 'Emmy Noether'},\n",
      " {'age': 153, 'name': 'Marie Curie'},\n",
      " {'age': 121, 'name': 'Sally Ride'})\n",
      "\n"
     ]
    }
   ],
   "source": [
    "# Multiprocessing code with specifying the number ofo processes even on less number of cores . \n",
    "# example we can run 4 proocesses in a dual core machine . \n",
    "\n",
    "start = time.time()\n",
    "\n",
    "pool = multiprocessing.Pool(processes = 4, maxtasksperchild=1)\n",
    "pool.map(transform, scientists_tuple)\n",
    "\n",
    "end = time.time()\n",
    "\n",
    "\n",
    "print(f'Time to complete: {end-start:.2f}')\n",
    "pprint(result)"
   ]
  },
  {
   "cell_type": "markdown",
   "id": "opening-number",
   "metadata": {},
   "source": [
    "<h2>Section 6: Parallel Processing With concurrent.futures <h2>"
   ]
  },
  {
   "cell_type": "code",
   "execution_count": 13,
   "id": "composite-fundamentals",
   "metadata": {},
   "outputs": [],
   "source": [
    "import concurrent.futures"
   ]
  },
  {
   "cell_type": "code",
   "execution_count": 17,
   "id": "international-present",
   "metadata": {},
   "outputs": [
    {
     "name": "stdout",
     "output_type": "stream",
     "text": [
      "Process 4158 started processing the record Ada Lovelace\n",
      "Process 4163 started processing the record Emmy Noether\n",
      "\n",
      "\n",
      "Process 4170 started processing the record Marie Curie\n",
      "\n",
      "Process 4175 started processing the record Sally Ride\n",
      "\n",
      "Process 4158 completed Processing record Ada Lovelace\n",
      "\n",
      "Process 4163 completed Processing record Emmy Noether\n",
      "\n",
      "Process 4170 completed Processing record Marie Curie\n",
      "\n",
      "Process 4175 completed Processing record Sally Ride\n",
      "\n",
      "Time to complete: 2.03\n",
      "<generator object _chain_from_iterable_of_lists at 0x7f0ca16d8120>\n"
     ]
    }
   ],
   "source": [
    "# only in Python 3 for concurrent asynchronous prooocessing , \n",
    "\n",
    "start = time.time()\n",
    "\n",
    "with concurrent.futures.ProcessPoolExecutor() as executor:\n",
    "    result = executor.map(transform, scientists_tuple)\n",
    "\n",
    "end = time.time()\n",
    "\n",
    "print(f'Time to complete: {end-start:.2f}')\n",
    "pprint(result) # this returns an iterator by default"
   ]
  },
  {
   "cell_type": "code",
   "execution_count": 18,
   "id": "danish-wheat",
   "metadata": {},
   "outputs": [
    {
     "name": "stdout",
     "output_type": "stream",
     "text": [
      "Process 4028 started processing the record Ada Lovelace\n",
      "\n",
      "Process 4028 started processing the record Emmy Noether\n",
      "\n",
      "Process 4028 started processing the record Marie Curie\n",
      "\n",
      "Process 4028 started processing the record Sally Ride\n",
      "\n",
      "Process 4028 completed Processing record Emmy Noether\n",
      "\n",
      "Process 4028 completed Processing record Ada Lovelace\n",
      "\n",
      "Process 4028 completed Processing record Sally Ride\n",
      "\n",
      "Process 4028 completed Processing record Marie Curie\n",
      "\n",
      "Time to complete: 2.01\n"
     ]
    }
   ],
   "source": [
    "# only in Python 3 for concurrent asynchronous processing \n",
    "# using thread poool instead fo process pool\n",
    "# Here multiple threads run in parallel for the same process\n",
    "\n",
    "\n",
    "start = time.time()\n",
    "\n",
    "with concurrent.futures.ThreadPoolExecutor() as executor: \n",
    "    result = executor.map(transform, scientists_tuple)\n",
    "\n",
    "end = time.time()\n",
    "\n",
    "print(f'Time to complete: {end-start:.2f}')"
   ]
  },
  {
   "cell_type": "markdown",
   "id": "environmental-ceramic",
   "metadata": {},
   "source": [
    "# Python works bassed on Globalinterpretorloock.\n",
    "# every proocess has its own interpretor and no 2 threads within a process can execute python code at same time . \n",
    "# use process based parallelism as every process gets its own intrepretor , so they can run in parallel. this is where concurrent.futures moodules is handy\n",
    "# processpool executor is just a wrapper on the multiprocessing pool.\n",
    "# use concurrent.futures to wasily switchout strategies instead of using the multiprocesssing moodule\n",
    "\n",
    "#\n",
    "\n",
    "Because of the GIL, no two threads can execute Python code at the same time. So even if you have \n",
    "multiple threads running in your Python program, only one of them can execute at a time. The best \n",
    "way to get around this is to use process-based parallel programing, or process-based parallelism.\n",
    "\n",
    "\n",
    "\n",
    "https://realpython.com/lessons/when-use-concurrent-futures-or-multiprocessing/\n",
    "\n"
   ]
  },
  {
   "cell_type": "code",
   "execution_count": null,
   "id": "dangerous-taiwan",
   "metadata": {},
   "outputs": [],
   "source": []
  }
 ],
 "metadata": {
  "kernelspec": {
   "display_name": "Python 3",
   "language": "python",
   "name": "python3"
  },
  "language_info": {
   "codemirror_mode": {
    "name": "ipython",
    "version": 3
   },
   "file_extension": ".py",
   "mimetype": "text/x-python",
   "name": "python",
   "nbconvert_exporter": "python",
   "pygments_lexer": "ipython3",
   "version": "3.9.1"
  }
 },
 "nbformat": 4,
 "nbformat_minor": 5
}
